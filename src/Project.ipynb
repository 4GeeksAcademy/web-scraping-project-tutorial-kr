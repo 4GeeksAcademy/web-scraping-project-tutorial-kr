{
 "cells": [
  {
   "cell_type": "code",
   "execution_count": 93,
   "metadata": {},
   "outputs": [
    {
     "name": "stdout",
     "output_type": "stream",
     "text": [
      "Defaulting to user installation because normal site-packages is not writeable\n",
      "Requirement already satisfied: pandas in /home/vscode/.local/lib/python3.11/site-packages (2.2.3)\n",
      "Requirement already satisfied: requests in /home/vscode/.local/lib/python3.11/site-packages (2.27.1)\n",
      "Requirement already satisfied: numpy>=1.23.2 in /home/vscode/.local/lib/python3.11/site-packages (from pandas) (2.2.3)\n",
      "Requirement already satisfied: python-dateutil>=2.8.2 in /home/vscode/.local/lib/python3.11/site-packages (from pandas) (2.9.0.post0)\n",
      "Requirement already satisfied: pytz>=2020.1 in /home/vscode/.local/lib/python3.11/site-packages (from pandas) (2025.1)\n",
      "Requirement already satisfied: tzdata>=2022.7 in /home/vscode/.local/lib/python3.11/site-packages (from pandas) (2025.1)\n",
      "Requirement already satisfied: urllib3<1.27,>=1.21.1 in /home/vscode/.local/lib/python3.11/site-packages (from requests) (1.26.20)\n",
      "Requirement already satisfied: certifi>=2017.4.17 in /home/vscode/.local/lib/python3.11/site-packages (from requests) (2025.1.31)\n",
      "Requirement already satisfied: charset-normalizer~=2.0.0 in /home/vscode/.local/lib/python3.11/site-packages (from requests) (2.0.12)\n",
      "Requirement already satisfied: idna<4,>=2.5 in /home/vscode/.local/lib/python3.11/site-packages (from requests) (3.10)\n",
      "Requirement already satisfied: six>=1.5 in /home/vscode/.local/lib/python3.11/site-packages (from python-dateutil>=2.8.2->pandas) (1.17.0)\n",
      "\n",
      "\u001b[1m[\u001b[0m\u001b[34;49mnotice\u001b[0m\u001b[1;39;49m]\u001b[0m\u001b[39;49m A new release of pip is available: \u001b[0m\u001b[31;49m23.1.2\u001b[0m\u001b[39;49m -> \u001b[0m\u001b[32;49m25.0.1\u001b[0m\n",
      "\u001b[1m[\u001b[0m\u001b[34;49mnotice\u001b[0m\u001b[1;39;49m]\u001b[0m\u001b[39;49m To update, run: \u001b[0m\u001b[32;49mpip install --upgrade pip\u001b[0m\n",
      "Note: you may need to restart the kernel to use updated packages.\n"
     ]
    }
   ],
   "source": [
    "#Step 1: Install dependencies\n",
    "\n",
    "%pip install pandas requests"
   ]
  },
  {
   "cell_type": "code",
   "execution_count": 94,
   "metadata": {},
   "outputs": [],
   "source": [
    "import os\n",
    "from bs4 import BeautifulSoup\n",
    "import requests\n",
    "import time\n",
    "import sqlite3\n",
    "import matplotlib.pyplot as plt\n",
    "import seaborn as sns\n",
    "import pandas as pd"
   ]
  },
  {
   "cell_type": "code",
   "execution_count": 95,
   "metadata": {},
   "outputs": [],
   "source": [
    "#Step 2: Download HTML\n",
    "\n",
    "import requests\n",
    "\n",
    "resource_url = \"https://companies-market-cap-copy.vercel.app/index.html\"\n",
    "\n",
    "response = requests.get(resource_url)\n",
    "\n",
    "if response:\n",
    "    with open(\"tesla_revenue.csv\", \"wb\") as dataset:\n",
    "        dataset.write(response.content)"
   ]
  },
  {
   "cell_type": "code",
   "execution_count": 96,
   "metadata": {},
   "outputs": [],
   "source": [
    "#Step 3: Transform the HTML\n",
    "\n",
    "import requests\n",
    "import time\n",
    "from bs4 import BeautifulSoup\n",
    "\n",
    "resource_url = \"https://companies-market-cap-copy.vercel.app/index.html\"\n",
    "\n",
    "response = requests.get(resource_url, time.sleep(10))\n",
    "\n",
    "if response:\n",
    "    soup = BeautifulSoup(response.text, 'html.parser')\n",
    "    soup\n"
   ]
  },
  {
   "cell_type": "code",
   "execution_count": 97,
   "metadata": {},
   "outputs": [
    {
     "data": {
      "text/plain": [
       "<table class=\"table\" style=\"width:100%\">\n",
       "<thead>\n",
       "<tr>\n",
       "<th>Year</th>\n",
       "<th>Revenue</th>\n",
       "<th>Change</th>\n",
       "</tr>\n",
       "</thead>\n",
       "<tbody>\n",
       "<tr><td><span class=\"year\">2024</span></td><td>$97.15 B</td><td class=\"percentage-green\">0.39%</td></tr><tr><td><span class=\"year\">2023</span> </td><td>$96.77 B</td><td class=\"percentage-green\">18.8%</td></tr><tr><td><span class=\"year\">2022</span></td><td>$81.46 B</td><td class=\"percentage-green\">51.35%</td></tr><tr><td><span class=\"year\">2021</span></td><td>$53.82 B</td><td class=\"percentage-green\">70.67%</td></tr><tr><td><span class=\"year\">2020</span></td><td>$31.53 B</td><td class=\"percentage-green\">28.31%</td></tr><tr><td><span class=\"year\">2019</span></td><td>$24.57 B</td><td class=\"percentage-green\">14.52%</td></tr><tr><td><span class=\"year\">2018</span></td><td>$21.46 B</td><td class=\"percentage-green\">82.51%</td></tr><tr><td><span class=\"year\">2017</span></td><td>$11.75 B</td><td class=\"percentage-green\">67.98%</td></tr><tr><td><span class=\"year\">2016</span></td><td>$7.00 B</td><td class=\"percentage-green\">73.01%</td></tr><tr><td><span class=\"year\">2015</span></td><td>$4.04 B</td><td class=\"percentage-green\">26.5%</td></tr><tr><td><span class=\"year\">2014</span></td><td>$3.19 B</td><td class=\"percentage-green\">58.85%</td></tr><tr><td><span class=\"year\">2013</span></td><td>$2.01 B</td><td class=\"percentage-green\">387.23%</td></tr><tr><td><span class=\"year\">2012</span></td><td>$0.41 B</td><td class=\"percentage-green\">102.34%</td></tr><tr><td><span class=\"year\">2011</span></td><td>$0.20 B</td><td class=\"percentage-green\">74.95%</td></tr><tr><td><span class=\"year\">2010</span></td><td>$0.11 B</td><td class=\"percentage-green\">4.29%</td></tr><tr><td><span class=\"year\">2009</span> </td><td>$0.11 B</td><td></td></tr> </tbody>\n",
       "</table>"
      ]
     },
     "execution_count": 97,
     "metadata": {},
     "output_type": "execute_result"
    }
   ],
   "source": [
    "#Find all the tables.\n",
    "\n",
    "tables = soup.find(\"table\")\n",
    "tables"
   ]
  },
  {
   "cell_type": "code",
   "execution_count": 98,
   "metadata": {},
   "outputs": [
    {
     "data": {
      "text/plain": [
       "[<tr>\n",
       " <th>Year</th>\n",
       " <th>Revenue</th>\n",
       " <th>Change</th>\n",
       " </tr>,\n",
       " <tr><td><span class=\"year\">2024</span></td><td>$97.15 B</td><td class=\"percentage-green\">0.39%</td></tr>,\n",
       " <tr><td><span class=\"year\">2023</span> </td><td>$96.77 B</td><td class=\"percentage-green\">18.8%</td></tr>,\n",
       " <tr><td><span class=\"year\">2022</span></td><td>$81.46 B</td><td class=\"percentage-green\">51.35%</td></tr>,\n",
       " <tr><td><span class=\"year\">2021</span></td><td>$53.82 B</td><td class=\"percentage-green\">70.67%</td></tr>,\n",
       " <tr><td><span class=\"year\">2020</span></td><td>$31.53 B</td><td class=\"percentage-green\">28.31%</td></tr>,\n",
       " <tr><td><span class=\"year\">2019</span></td><td>$24.57 B</td><td class=\"percentage-green\">14.52%</td></tr>,\n",
       " <tr><td><span class=\"year\">2018</span></td><td>$21.46 B</td><td class=\"percentage-green\">82.51%</td></tr>,\n",
       " <tr><td><span class=\"year\">2017</span></td><td>$11.75 B</td><td class=\"percentage-green\">67.98%</td></tr>,\n",
       " <tr><td><span class=\"year\">2016</span></td><td>$7.00 B</td><td class=\"percentage-green\">73.01%</td></tr>,\n",
       " <tr><td><span class=\"year\">2015</span></td><td>$4.04 B</td><td class=\"percentage-green\">26.5%</td></tr>,\n",
       " <tr><td><span class=\"year\">2014</span></td><td>$3.19 B</td><td class=\"percentage-green\">58.85%</td></tr>,\n",
       " <tr><td><span class=\"year\">2013</span></td><td>$2.01 B</td><td class=\"percentage-green\">387.23%</td></tr>,\n",
       " <tr><td><span class=\"year\">2012</span></td><td>$0.41 B</td><td class=\"percentage-green\">102.34%</td></tr>,\n",
       " <tr><td><span class=\"year\">2011</span></td><td>$0.20 B</td><td class=\"percentage-green\">74.95%</td></tr>,\n",
       " <tr><td><span class=\"year\">2010</span></td><td>$0.11 B</td><td class=\"percentage-green\">4.29%</td></tr>,\n",
       " <tr><td><span class=\"year\">2009</span> </td><td>$0.11 B</td><td></td></tr>]"
      ]
     },
     "execution_count": 98,
     "metadata": {},
     "output_type": "execute_result"
    }
   ],
   "source": [
    "#Find the table with the year evolution.\n",
    "\n",
    "rows = tables.find_all(\"tr\")\n",
    "rows"
   ]
  },
  {
   "cell_type": "code",
   "execution_count": 99,
   "metadata": {},
   "outputs": [
    {
     "data": {
      "text/plain": [
       "[['2024', '$97.15 B'],\n",
       " ['2023', '$96.77 B'],\n",
       " ['2022', '$81.46 B'],\n",
       " ['2021', '$53.82 B'],\n",
       " ['2020', '$31.53 B'],\n",
       " ['2019', '$24.57 B'],\n",
       " ['2018', '$21.46 B'],\n",
       " ['2017', '$11.75 B'],\n",
       " ['2016', '$7.00 B'],\n",
       " ['2015', '$4.04 B'],\n",
       " ['2014', '$3.19 B'],\n",
       " ['2013', '$2.01 B'],\n",
       " ['2012', '$0.41 B'],\n",
       " ['2011', '$0.20 B'],\n",
       " ['2010', '$0.11 B'],\n",
       " ['2009', '$0.11 B']]"
      ]
     },
     "execution_count": 99,
     "metadata": {},
     "output_type": "execute_result"
    }
   ],
   "source": [
    "#Store the data in a DataFrame.\n",
    "\n",
    "data = []\n",
    "for row in rows[1:]:\n",
    "    cols = row.find_all(\"td\")\n",
    "    date = cols[0].text.strip()\n",
    "    revenue = cols[1].text.strip()\n",
    "    data.append([date, revenue])\n",
    "\n",
    "data"
   ]
  },
  {
   "cell_type": "code",
   "execution_count": 100,
   "metadata": {},
   "outputs": [
    {
     "data": {
      "text/html": [
       "<div>\n",
       "<style scoped>\n",
       "    .dataframe tbody tr th:only-of-type {\n",
       "        vertical-align: middle;\n",
       "    }\n",
       "\n",
       "    .dataframe tbody tr th {\n",
       "        vertical-align: top;\n",
       "    }\n",
       "\n",
       "    .dataframe thead th {\n",
       "        text-align: right;\n",
       "    }\n",
       "</style>\n",
       "<table border=\"1\" class=\"dataframe\">\n",
       "  <thead>\n",
       "    <tr style=\"text-align: right;\">\n",
       "      <th></th>\n",
       "      <th>Year</th>\n",
       "      <th>Profit ($B)</th>\n",
       "    </tr>\n",
       "  </thead>\n",
       "  <tbody>\n",
       "    <tr>\n",
       "      <th>0</th>\n",
       "      <td>2024</td>\n",
       "      <td>97.15</td>\n",
       "    </tr>\n",
       "    <tr>\n",
       "      <th>1</th>\n",
       "      <td>2023</td>\n",
       "      <td>96.77</td>\n",
       "    </tr>\n",
       "    <tr>\n",
       "      <th>2</th>\n",
       "      <td>2022</td>\n",
       "      <td>81.46</td>\n",
       "    </tr>\n",
       "    <tr>\n",
       "      <th>3</th>\n",
       "      <td>2021</td>\n",
       "      <td>53.82</td>\n",
       "    </tr>\n",
       "    <tr>\n",
       "      <th>4</th>\n",
       "      <td>2020</td>\n",
       "      <td>31.53</td>\n",
       "    </tr>\n",
       "    <tr>\n",
       "      <th>5</th>\n",
       "      <td>2019</td>\n",
       "      <td>24.57</td>\n",
       "    </tr>\n",
       "    <tr>\n",
       "      <th>6</th>\n",
       "      <td>2018</td>\n",
       "      <td>21.46</td>\n",
       "    </tr>\n",
       "    <tr>\n",
       "      <th>7</th>\n",
       "      <td>2017</td>\n",
       "      <td>11.75</td>\n",
       "    </tr>\n",
       "    <tr>\n",
       "      <th>8</th>\n",
       "      <td>2016</td>\n",
       "      <td>7.00</td>\n",
       "    </tr>\n",
       "    <tr>\n",
       "      <th>9</th>\n",
       "      <td>2015</td>\n",
       "      <td>4.04</td>\n",
       "    </tr>\n",
       "    <tr>\n",
       "      <th>10</th>\n",
       "      <td>2014</td>\n",
       "      <td>3.19</td>\n",
       "    </tr>\n",
       "    <tr>\n",
       "      <th>11</th>\n",
       "      <td>2013</td>\n",
       "      <td>2.01</td>\n",
       "    </tr>\n",
       "    <tr>\n",
       "      <th>12</th>\n",
       "      <td>2012</td>\n",
       "      <td>0.41</td>\n",
       "    </tr>\n",
       "    <tr>\n",
       "      <th>13</th>\n",
       "      <td>2011</td>\n",
       "      <td>0.20</td>\n",
       "    </tr>\n",
       "    <tr>\n",
       "      <th>14</th>\n",
       "      <td>2010</td>\n",
       "      <td>0.11</td>\n",
       "    </tr>\n",
       "    <tr>\n",
       "      <th>15</th>\n",
       "      <td>2009</td>\n",
       "      <td>0.11</td>\n",
       "    </tr>\n",
       "  </tbody>\n",
       "</table>\n",
       "</div>"
      ],
      "text/plain": [
       "    Year  Profit ($B)\n",
       "0   2024        97.15\n",
       "1   2023        96.77\n",
       "2   2022        81.46\n",
       "3   2021        53.82\n",
       "4   2020        31.53\n",
       "5   2019        24.57\n",
       "6   2018        21.46\n",
       "7   2017        11.75\n",
       "8   2016         7.00\n",
       "9   2015         4.04\n",
       "10  2014         3.19\n",
       "11  2013         2.01\n",
       "12  2012         0.41\n",
       "13  2011         0.20\n",
       "14  2010         0.11\n",
       "15  2009         0.11"
      ]
     },
     "execution_count": 100,
     "metadata": {},
     "output_type": "execute_result"
    }
   ],
   "source": [
    "#Step 4: Process the DataFrame\n",
    "\n",
    "df = pd.DataFrame(data, columns=[\"Year\", \"Profit ($B)\"])\n",
    "df[\"Profit ($B)\"] = df[\"Profit ($B)\"].str.replace(\"$\", \"\").str.replace(\"B\", \"\").astype(float)\n",
    "df = df.dropna()\n",
    "df"
   ]
  },
  {
   "cell_type": "code",
   "execution_count": 101,
   "metadata": {},
   "outputs": [
    {
     "data": {
      "text/html": [
       "<div>\n",
       "<style scoped>\n",
       "    .dataframe tbody tr th:only-of-type {\n",
       "        vertical-align: middle;\n",
       "    }\n",
       "\n",
       "    .dataframe tbody tr th {\n",
       "        vertical-align: top;\n",
       "    }\n",
       "\n",
       "    .dataframe thead th {\n",
       "        text-align: right;\n",
       "    }\n",
       "</style>\n",
       "<table border=\"1\" class=\"dataframe\">\n",
       "  <thead>\n",
       "    <tr style=\"text-align: right;\">\n",
       "      <th></th>\n",
       "      <th>Year</th>\n",
       "      <th>Profit ($B)</th>\n",
       "    </tr>\n",
       "  </thead>\n",
       "  <tbody>\n",
       "    <tr>\n",
       "      <th>0</th>\n",
       "      <td>2024</td>\n",
       "      <td>97.15</td>\n",
       "    </tr>\n",
       "    <tr>\n",
       "      <th>1</th>\n",
       "      <td>2023</td>\n",
       "      <td>96.77</td>\n",
       "    </tr>\n",
       "    <tr>\n",
       "      <th>2</th>\n",
       "      <td>2022</td>\n",
       "      <td>81.46</td>\n",
       "    </tr>\n",
       "    <tr>\n",
       "      <th>3</th>\n",
       "      <td>2021</td>\n",
       "      <td>53.82</td>\n",
       "    </tr>\n",
       "    <tr>\n",
       "      <th>4</th>\n",
       "      <td>2020</td>\n",
       "      <td>31.53</td>\n",
       "    </tr>\n",
       "  </tbody>\n",
       "</table>\n",
       "</div>"
      ],
      "text/plain": [
       "   Year  Profit ($B)\n",
       "0  2024        97.15\n",
       "1  2023        96.77\n",
       "2  2022        81.46\n",
       "3  2021        53.82\n",
       "4  2020        31.53"
      ]
     },
     "execution_count": 101,
     "metadata": {},
     "output_type": "execute_result"
    }
   ],
   "source": [
    "df.head()"
   ]
  },
  {
   "cell_type": "code",
   "execution_count": 102,
   "metadata": {},
   "outputs": [
    {
     "name": "stdout",
     "output_type": "stream",
     "text": [
      "<class 'pandas.core.frame.DataFrame'>\n",
      "RangeIndex: 16 entries, 0 to 15\n",
      "Data columns (total 2 columns):\n",
      " #   Column       Non-Null Count  Dtype  \n",
      "---  ------       --------------  -----  \n",
      " 0   Year         16 non-null     object \n",
      " 1   Profit ($B)  16 non-null     float64\n",
      "dtypes: float64(1), object(1)\n",
      "memory usage: 388.0+ bytes\n"
     ]
    }
   ],
   "source": [
    "df.info()"
   ]
  },
  {
   "cell_type": "code",
   "execution_count": 103,
   "metadata": {},
   "outputs": [
    {
     "data": {
      "text/plain": [
       "<sqlite3.Cursor at 0x76d0f3b300c0>"
      ]
     },
     "execution_count": 103,
     "metadata": {},
     "output_type": "execute_result"
    }
   ],
   "source": [
    "#Step 5: Store the data in sqlite\n",
    "\n",
    "#Create the table.\n",
    "conn = sqlite3.connect(\"tesla_profits.db\")\n",
    "cursor = conn.cursor()\n",
    "cursor.execute(\"DROP TABLE IF EXISTS tesla_profit\")\n",
    "cursor.execute(\"\"\"\n",
    "CREATE TABLE tesla_profit (\n",
    "    year INTEGER PRIMARY KEY,\n",
    "    profit FLOAT\n",
    ")\n",
    "\"\"\")"
   ]
  },
  {
   "cell_type": "code",
   "execution_count": 104,
   "metadata": {},
   "outputs": [
    {
     "data": {
      "text/plain": [
       "16"
      ]
     },
     "execution_count": 104,
     "metadata": {},
     "output_type": "execute_result"
    }
   ],
   "source": [
    "#Insert the values.\n",
    "df.rename(columns={\"Profit ($B)\": \"Profit\"}, inplace=True)\n",
    "df.to_sql(\"tesla_profit\", conn, if_exists=\"append\", index=False)"
   ]
  },
  {
   "cell_type": "code",
   "execution_count": 105,
   "metadata": {},
   "outputs": [],
   "source": [
    "#Store (commit) the changes.\n",
    "\n",
    "conn.commit()\n",
    "conn.close()"
   ]
  },
  {
   "cell_type": "code",
   "execution_count": 106,
   "metadata": {},
   "outputs": [
    {
     "data": {
      "image/png": "[encoded data removed]",
      "text/plain": [
       "<Figure size 1000x500 with 1 Axes>"
      ]
     },
     "metadata": {},
     "output_type": "display_data"
    }
   ],
   "source": [
    "#Step 6: Visualize the data\n",
    "\n",
    "import seaborn as sns\n",
    "\n",
    "df['Year'] = pd.to_datetime(df['Year'], format='%Y')\n",
    "df.sort_values('Year', inplace=True)\n",
    "\n",
    "#LINE CHART\n",
    "plt.figure(figsize=(10, 5))\n",
    "sns.lineplot(x=df['Year'], y=df['Profit'], marker='o', linestyle='-')\n",
    "\n",
    "plt.xlabel(\"Year\")\n",
    "plt.ylabel(\"Profit (Billion $)\")\n",
    "plt.title(\"Tesla's Profit Growth Over Time\")\n",
    "plt.grid(True)\n",
    "plt.show()"
   ]
  },
  {
   "cell_type": "code",
   "execution_count": 107,
   "metadata": {},
   "outputs": [
    {
     "name": "stderr",
     "output_type": "stream",
     "text": [
      "/tmp/ipykernel_570/994187155.py:3: FutureWarning: \n",
      "\n",
      "Passing `palette` without assigning `hue` is deprecated and will be removed in v0.14.0. Assign the `x` variable to `hue` and set `legend=False` for the same effect.\n",
      "\n",
      "  sns.barplot(x=df['Year'].dt.year, y=df['Profit'], palette='coolwarm')\n"
     ]
    },
    {
     "data": {
      "image/png": "[encoded data removed]",
      "text/plain": [
       "<Figure size 1200x600 with 1 Axes>"
      ]
     },
     "metadata": {},
     "output_type": "display_data"
    }
   ],
   "source": [
    "\n",
    "#BAR CHART\n",
    "plt.figure(figsize=(12, 6))\n",
    "sns.barplot(x=df['Year'].dt.year, y=df['Profit'], palette='coolwarm')\n",
    "\n",
    "plt.xlabel(\"Year\")\n",
    "plt.ylabel(\"Profit (Billion $)\")\n",
    "plt.title(\"Tesla's Yearly Profit Comparison\")\n",
    "plt.xticks(rotation=45)\n",
    "plt.show()"
   ]
  },
  {
   "cell_type": "code",
   "execution_count": 108,
   "metadata": {},
   "outputs": [
    {
     "data": {
      "image/png": "[encoded data removed]",
      "text/plain": [
       "<Figure size 1000x500 with 1 Axes>"
      ]
     },
     "metadata": {},
     "output_type": "display_data"
    }
   ],
   "source": [
    "#SCATTER PLOT\n",
    "plt.figure(figsize=(10, 5))\n",
    "sns.scatterplot(x=df['Year'], y=df['Profit'], color='red', s=100)\n",
    "\n",
    "plt.xlabel(\"Year\")\n",
    "plt.ylabel(\"Profit (Billion $)\")\n",
    "plt.title(\"Scatter Plot of Tesla's Profit Over Time\")\n",
    "plt.grid(True)\n",
    "plt.show()"
   ]
  },
  {
   "cell_type": "code",
   "execution_count": 110,
   "metadata": {},
   "outputs": [
    {
     "name": "stdout",
     "output_type": "stream",
     "text": [
      "Tesla's latest annual earnings: $8.73 B\n"
     ]
    }
   ],
   "source": [
    "#Extra excercise\n",
    "\n",
    "earnings_url = \"https://companies-market-cap-copy.vercel.app/earnings.html\"\n",
    "earnings_response = requests.get(earnings_url)\n",
    "earnings_soup = BeautifulSoup(earnings_response.text, \"html.parser\")\n",
    "earnings_table = earnings_soup.find(\"table\")\n",
    "latest_earnings = earnings_table.find_all(\"tr\")[1].find_all(\"td\")[1].text.strip()\n",
    "print(f\"Tesla's latest annual earnings: {latest_earnings}\")"
   ]
  }
 ],
 "metadata": {
  "kernelspec": {
   "display_name": "Python 3",
   "language": "python",
   "name": "python3"
  },
  "language_info": {
   "codemirror_mode": {
    "name": "ipython",
    "version": 3
   },
   "file_extension": ".py",
   "mimetype": "text/x-python",
   "name": "python",
   "nbconvert_exporter": "python",
   "pygments_lexer": "ipython3",
   "version": "3.11.4"
  }
 },
 "nbformat": 4,
 "nbformat_minor": 2
}
