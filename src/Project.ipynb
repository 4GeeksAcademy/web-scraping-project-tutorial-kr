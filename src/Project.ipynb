{
 "cells": [
  {
   "cell_type": "code",
   "execution_count": 17,
   "metadata": {},
   "outputs": [
    {
     "name": "stdout",
     "output_type": "stream",
     "text": [
      "Defaulting to user installation because normal site-packages is not writeable\n",
      "Requirement already satisfied: pandas in /home/vscode/.local/lib/python3.11/site-packages (2.2.3)\n",
      "Requirement already satisfied: requests in /home/vscode/.local/lib/python3.11/site-packages (2.27.1)\n",
      "Requirement already satisfied: numpy>=1.23.2 in /home/vscode/.local/lib/python3.11/site-packages (from pandas) (2.2.3)\n",
      "Requirement already satisfied: python-dateutil>=2.8.2 in /home/vscode/.local/lib/python3.11/site-packages (from pandas) (2.9.0.post0)\n",
      "Requirement already satisfied: pytz>=2020.1 in /home/vscode/.local/lib/python3.11/site-packages (from pandas) (2025.1)\n",
      "Requirement already satisfied: tzdata>=2022.7 in /home/vscode/.local/lib/python3.11/site-packages (from pandas) (2025.1)\n",
      "Requirement already satisfied: urllib3<1.27,>=1.21.1 in /home/vscode/.local/lib/python3.11/site-packages (from requests) (1.26.20)\n",
      "Requirement already satisfied: certifi>=2017.4.17 in /home/vscode/.local/lib/python3.11/site-packages (from requests) (2025.1.31)\n",
      "Requirement already satisfied: charset-normalizer~=2.0.0 in /home/vscode/.local/lib/python3.11/site-packages (from requests) (2.0.12)\n",
      "Requirement already satisfied: idna<4,>=2.5 in /home/vscode/.local/lib/python3.11/site-packages (from requests) (3.10)\n",
      "Requirement already satisfied: six>=1.5 in /home/vscode/.local/lib/python3.11/site-packages (from python-dateutil>=2.8.2->pandas) (1.17.0)\n",
      "\n",
      "\u001b[1m[\u001b[0m\u001b[34;49mnotice\u001b[0m\u001b[1;39;49m]\u001b[0m\u001b[39;49m A new release of pip is available: \u001b[0m\u001b[31;49m23.1.2\u001b[0m\u001b[39;49m -> \u001b[0m\u001b[32;49m25.0.1\u001b[0m\n",
      "\u001b[1m[\u001b[0m\u001b[34;49mnotice\u001b[0m\u001b[1;39;49m]\u001b[0m\u001b[39;49m To update, run: \u001b[0m\u001b[32;49mpip install --upgrade pip\u001b[0m\n"
     ]
    }
   ],
   "source": [
    "#Step 1: Install dependencies\n",
    "\n",
    "!pip install pandas requests"
   ]
  },
  {
   "cell_type": "code",
   "execution_count": 18,
   "metadata": {},
   "outputs": [],
   "source": [
    "import os\n",
    "from bs4 import BeautifulSoup\n",
    "import requests\n",
    "import time\n",
    "import sqlite3\n",
    "import matplotlib.pyplot as plt\n",
    "import seaborn as sns\n",
    "import pandas as pd"
   ]
  },
  {
   "cell_type": "code",
   "execution_count": 19,
   "metadata": {},
   "outputs": [],
   "source": [
    "#Step 2: Download HTML\n",
    "\n",
    "import requests\n",
    "\n",
    "# Select the resource to download\n",
    "resource_url = \"https://companies-market-cap-copy.vercel.app/index.html\"\n",
    "\n",
    "# Request to download the file from the Internet\n",
    "response = requests.get(resource_url)\n",
    "\n",
    "# If the request was executed correctly (code 200), then the file could be downloaded\n",
    "if response:\n",
    "    # The file is stored in the current directory for later use\n",
    "    with open(\"tesla_revenue.csv\", \"wb\") as dataset:\n",
    "        dataset.write(response.content)"
   ]
  },
  {
   "cell_type": "code",
   "execution_count": 20,
   "metadata": {},
   "outputs": [],
   "source": [
    "#Step 3: Transform the HTML\n",
    "\n",
    "import requests\n",
    "import time\n",
    "from bs4 import BeautifulSoup\n",
    "\n",
    "# Select the resource to download\n",
    "resource_url = \"https://companies-market-cap-copy.vercel.app/index.html\"\n",
    "\n",
    "# Request to download the file from the Internet\n",
    "response = requests.get(resource_url, time.sleep(10))\n",
    "\n",
    "# If the request has been executed correctly (code 200), then the HTML content of the page has been downloaded\n",
    "if response:\n",
    "    # We transform the flat HTML into real HTML (structured and nested, tree-like)\n",
    "    soup = BeautifulSoup(response.text, 'html')\n",
    "    soup\n"
   ]
  },
  {
   "cell_type": "code",
   "execution_count": 25,
   "metadata": {},
   "outputs": [],
   "source": [
    "#Find all the tables.\n",
    "\n",
    "tables = soup.find_all(\"table\")"
   ]
  },
  {
   "cell_type": "code",
   "execution_count": 26,
   "metadata": {},
   "outputs": [],
   "source": [
    "#Find the table with the year evolution.\n",
    "\n",
    "year_table = tables[1]"
   ]
  },
  {
   "cell_type": "code",
   "execution_count": 27,
   "metadata": {},
   "outputs": [],
   "source": [
    "#Store the data in a DataFrame.\n",
    "\n",
    "data = []\n",
    "for row in year_table.find_all(\"tr\")[1:]:\n",
    "    cols = row.find_all(\"td\")\n",
    "    if len(cols) == 2:\n",
    "        year = cols[0].text.strip()\n",
    "        profit = cols[1].text.strip()\n",
    "        data.append([year, profit])"
   ]
  },
  {
   "cell_type": "code",
   "execution_count": 29,
   "metadata": {},
   "outputs": [
    {
     "data": {
      "text/html": [
       "<div>\n",
       "<style scoped>\n",
       "    .dataframe tbody tr th:only-of-type {\n",
       "        vertical-align: middle;\n",
       "    }\n",
       "\n",
       "    .dataframe tbody tr th {\n",
       "        vertical-align: top;\n",
       "    }\n",
       "\n",
       "    .dataframe thead th {\n",
       "        text-align: right;\n",
       "    }\n",
       "</style>\n",
       "<table border=\"1\" class=\"dataframe\">\n",
       "  <thead>\n",
       "    <tr style=\"text-align: right;\">\n",
       "      <th></th>\n",
       "      <th>Year</th>\n",
       "      <th>Profit ($B)</th>\n",
       "    </tr>\n",
       "  </thead>\n",
       "  <tbody>\n",
       "  </tbody>\n",
       "</table>\n",
       "</div>"
      ],
      "text/plain": [
       "Empty DataFrame\n",
       "Columns: [Year, Profit ($B)]\n",
       "Index: []"
      ]
     },
     "execution_count": 29,
     "metadata": {},
     "output_type": "execute_result"
    }
   ],
   "source": [
    "#Step 4: Process the DataFrame\n",
    "\n",
    "df = pd.DataFrame(data, columns=[\"Year\", \"Profit ($B)\"])\n",
    "df[\"Profit ($B)\"] = df[\"Profit ($B)\"].str.replace(\"$\", \"\").str.replace(\"B\", \"\").astype(float)\n",
    "df = df.dropna()\n",
    "df"
   ]
  },
  {
   "cell_type": "code",
   "execution_count": 31,
   "metadata": {},
   "outputs": [
    {
     "data": {
      "text/plain": [
       "<sqlite3.Cursor at 0x75e8c1851140>"
      ]
     },
     "execution_count": 31,
     "metadata": {},
     "output_type": "execute_result"
    }
   ],
   "source": [
    "#Step 5: Store the data in sqlite\n",
    "\n",
    "#Create the table.\n",
    "conn = sqlite3.connect(\"tesla_profits.db\")\n",
    "cursor = conn.cursor()\n",
    "cursor.execute(\"DROP TABLE IF EXISTS tesla_profit\")\n",
    "cursor.execute(\"\"\"\n",
    "CREATE TABLE tesla_profit (\n",
    "    year INTEGER PRIMARY KEY,\n",
    "    profit FLOAT\n",
    ")\n",
    "\"\"\")"
   ]
  },
  {
   "cell_type": "code",
   "execution_count": 33,
   "metadata": {},
   "outputs": [
    {
     "data": {
      "text/plain": [
       "0"
      ]
     },
     "execution_count": 33,
     "metadata": {},
     "output_type": "execute_result"
    }
   ],
   "source": [
    "#Insert the values.\n",
    "\n",
    "df.to_sql(\"tesla_profit\", conn, if_exists=\"append\", index=False)"
   ]
  },
  {
   "cell_type": "code",
   "execution_count": 34,
   "metadata": {},
   "outputs": [],
   "source": [
    "#Store (commit) the changes.\n",
    "\n",
    "conn.commit()"
   ]
  },
  {
   "cell_type": "code",
   "execution_count": 35,
   "metadata": {},
   "outputs": [
    {
     "data": {
      "image/png": "[encoded data removed]",
      "text/plain": [
       "<Figure size 1000x500 with 1 Axes>"
      ]
     },
     "metadata": {},
     "output_type": "display_data"
    }
   ],
   "source": [
    "#Step 6: Visualize the data\n",
    "\n",
    "plt.figure(figsize=(10, 5))\n",
    "plt.plot(df[\"Year\"], df[\"Profit ($B)\"], marker='o', linestyle='-', color='b', label=\"Tesla Profit\")\n",
    "plt.xlabel(\"Year\")\n",
    "plt.ylabel(\"Profit in Billion $\")\n",
    "plt.title(\"Tesla's Profit Over the Years\")\n",
    "plt.legend()\n",
    "plt.grid(True)\n",
    "plt.xticks(rotation=45)\n",
    "plt.show()"
   ]
  }
 ],
 "metadata": {
  "kernelspec": {
   "display_name": "Python 3",
   "language": "python",
   "name": "python3"
  },
  "language_info": {
   "codemirror_mode": {
    "name": "ipython",
    "version": 3
   },
   "file_extension": ".py",
   "mimetype": "text/x-python",
   "name": "python",
   "nbconvert_exporter": "python",
   "pygments_lexer": "ipython3",
   "version": "3.11.4"
  }
 },
 "nbformat": 4,
 "nbformat_minor": 2
}
